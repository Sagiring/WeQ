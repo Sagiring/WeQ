{
 "cells": [
  {
   "cell_type": "code",
   "execution_count": 31,
   "metadata": {},
   "outputs": [
    {
     "name": "stdout",
     "output_type": "stream",
     "text": [
      "TyAFeDbt2jBaYq51ZB+M3Pc7pU6HGCoj8YHBfxb0nTbPNXuIkxeSKvDXuO3ha0Cf9WvXVoSFv3b8ReRl4pCFjchXVznoJI3XWWzMnQmH21T9BPO6V+c3jEXCb78N1gaAREfozuX3GINnJXk8sOfe919SKimz70y4QceETV/H97X1pZYRU0n7mUsVezCCRTzOEaAyQYuleCOfE0QzhEIzZSDNoZGQ3o51chkOS9zY1hE6Zx89618i/lBuxqBWsnZH84tbEo2Uv8qCyxVPlondBXzQEK5PqVP/sYZMrtXhmnT93IKM8qIkT0PzTsEMamfC7DvfoWLugGrO4D9FZHrTmA==\n"
     ]
    }
   ],
   "source": [
    "import string\n",
    "import random\n",
    "from Crypto.Cipher  import PKCS1_v1_5 as PKCS1_cipher\n",
    "from Crypto.PublicKey import RSA\n",
    "import base64\n",
    "from Crypto import Random\n",
    "public_key = b'-----BEGIN PUBLIC KEY-----\\nMIIBIjANBgkqhkiG9w0BAQEFAAOCAQ8AMIIBCgKCAQEAwbWjxcf18824JNK3xU/j\\nDCcnIlsuUB5nMZYqhyEzp2cWrlzlwyxLiWvn8J3z7nS74ygvYWrnq1bHGjFyw5Ya\\n8vSZc09Txgct3cuVjLzPHGySEKeqiVCj1F82AXAgUlGnW33MtMLmCyMIcbLMC5dK\\n+LqKBBswgZ7O7EVvPo7ComU1bsSi0klnqDWEQUcoCzqoS9ucDQWoMsRtkJjGAYcK\\n/MxwLrVuz+GiyR0ooNPNMJTW1a8siJ38i6C0uIk4/O17dufMz5L6/EsngSi3m90q\\n5ssrsPFkp2msADctDbQqEpkFQAF9T3wl2hDFeXXW8gpO3BPfhwD/NNpv01mtBBo0\\nsQIDAQAB\\n-----END PUBLIC KEY-----'\n",
    "pubkey = RSA.importKey(public_key)\n",
    "all_char_set = string.printable\n",
    "all_char_set*=16\n",
    "key =''.join(random.sample(all_char_set,k=16))\n",
    "cipher = PKCS1_cipher.new(pubkey)\n",
    "encrypto_key = base64.b64encode(cipher.encrypt(key.encode('utf-8')))\n",
    "print(encrypto_key.decode('utf-8'))\n",
    "    \n",
    "    "
   ]
  },
  {
   "cell_type": "code",
   "execution_count": 25,
   "metadata": {},
   "outputs": [
    {
     "name": "stdout",
     "output_type": "stream",
     "text": [
      "b'-----BEGIN PUBLIC KEY-----\\nMIIBIjANBgkqhkiG9w0BAQEFAAOCAQ8AMIIBCgKCAQEAwbWjxcf18824JNK3xU/j\\nDCcnIlsuUB5nMZYqhyEzp2cWrlzlwyxLiWvn8J3z7nS74ygvYWrnq1bHGjFyw5Ya\\n8vSZc09Txgct3cuVjLzPHGySEKeqiVCj1F82AXAgUlGnW33MtMLmCyMIcbLMC5dK\\n+LqKBBswgZ7O7EVvPo7ComU1bsSi0klnqDWEQUcoCzqoS9ucDQWoMsRtkJjGAYcK\\n/MxwLrVuz+GiyR0ooNPNMJTW1a8siJ38i6C0uIk4/O17dufMz5L6/EsngSi3m90q\\n5ssrsPFkp2msADctDbQqEpkFQAF9T3wl2hDFeXXW8gpO3BPfhwD/NNpv01mtBBo0\\nsQIDAQAB\\n-----END PUBLIC KEY-----'\n"
     ]
    }
   ],
   "source": [
    "random_generator = Random.new().read\n",
    "rsa = RSA.generate(2048, random_generator)\n",
    "public_key = rsa.publickey().exportKey()\n",
    "print(public_key)\n",
    "\n"
   ]
  }
 ],
 "metadata": {
  "kernelspec": {
   "display_name": ".venv",
   "language": "python",
   "name": "python3"
  },
  "language_info": {
   "codemirror_mode": {
    "name": "ipython",
    "version": 3
   },
   "file_extension": ".py",
   "mimetype": "text/x-python",
   "name": "python",
   "nbconvert_exporter": "python",
   "pygments_lexer": "ipython3",
   "version": "3.10.0"
  },
  "orig_nbformat": 4
 },
 "nbformat": 4,
 "nbformat_minor": 2
}
