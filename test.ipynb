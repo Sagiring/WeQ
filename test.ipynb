{
 "cells": [
  {
   "cell_type": "code",
   "execution_count": 5,
   "metadata": {},
   "outputs": [
    {
     "ename": "ConnectionRefusedError",
     "evalue": "[WinError 10061] 由于目标计算机积极拒绝，无法连接。",
     "output_type": "error",
     "traceback": [
      "\u001b[1;31m---------------------------------------------------------------------------\u001b[0m",
      "\u001b[1;31mConnectionRefusedError\u001b[0m                    Traceback (most recent call last)",
      "\u001b[1;32me:\\Study_code\\WeQ\\test.ipynb 单元格 1\u001b[0m in \u001b[0;36m<cell line: 8>\u001b[1;34m()\u001b[0m\n\u001b[0;32m      <a href='vscode-notebook-cell:/e%3A/Study_code/WeQ/test.ipynb#W0sZmlsZQ%3D%3D?line=5'>6</a>\u001b[0m client_socket\u001b[39m.\u001b[39mconnect((\u001b[39m'\u001b[39m\u001b[39m127.0.0.1\u001b[39m\u001b[39m'\u001b[39m, \u001b[39m20000\u001b[39m))  \u001b[39m#\u001b[39;00m\n\u001b[0;32m      <a href='vscode-notebook-cell:/e%3A/Study_code/WeQ/test.ipynb#W0sZmlsZQ%3D%3D?line=6'>7</a>\u001b[0m client_socket1 \u001b[39m=\u001b[39m socket\u001b[39m.\u001b[39msocket(socket\u001b[39m.\u001b[39mAF_INET, socket\u001b[39m.\u001b[39mSOCK_STREAM)  \u001b[39m# 创建 TCP 套接字\u001b[39;00m\n\u001b[1;32m----> <a href='vscode-notebook-cell:/e%3A/Study_code/WeQ/test.ipynb#W0sZmlsZQ%3D%3D?line=7'>8</a>\u001b[0m client_socket1\u001b[39m.\u001b[39;49mconnect((\u001b[39m'\u001b[39;49m\u001b[39m127.0.0.1\u001b[39;49m\u001b[39m'\u001b[39;49m, \u001b[39m20000\u001b[39;49m))\n",
      "\u001b[1;31mConnectionRefusedError\u001b[0m: [WinError 10061] 由于目标计算机积极拒绝，无法连接。"
     ]
    }
   ],
   "source": [
    "import socket\n",
    "server_socket = socket.socket(socket.AF_INET, socket.SOCK_STREAM)  # 创建 TCP 套接字\n",
    "server_socket.bind(('127.0.0.1', 20000))  #\n",
    "server_socket.listen(1)\n",
    "client_socket = socket.socket(socket.AF_INET, socket.SOCK_STREAM)  # 创建 TCP 套接字\n",
    "client_socket.connect(('127.0.0.1', 20000))  #\n",
    "client_socket1 = socket.socket(socket.AF_INET, socket.SOCK_STREAM)  # 创建 TCP 套接字\n",
    "client_socket1.connect(('127.0.0.1', 20000))  #"
   ]
  },
  {
   "cell_type": "code",
   "execution_count": 3,
   "metadata": {},
   "outputs": [],
   "source": []
  },
  {
   "cell_type": "code",
   "execution_count": 4,
   "metadata": {},
   "outputs": [
    {
     "ename": "OSError",
     "evalue": "[WinError 10056] 在一个已经连接的套接字上做了一个连接请求。",
     "output_type": "error",
     "traceback": [
      "\u001b[1;31m---------------------------------------------------------------------------\u001b[0m",
      "\u001b[1;31mOSError\u001b[0m                                   Traceback (most recent call last)",
      "\u001b[1;32me:\\Study_code\\WeQ\\test.ipynb 单元格 3\u001b[0m in \u001b[0;36m<cell line: 2>\u001b[1;34m()\u001b[0m\n\u001b[0;32m      <a href='vscode-notebook-cell:/e%3A/Study_code/WeQ/test.ipynb#W2sZmlsZQ%3D%3D?line=0'>1</a>\u001b[0m server_client_socketsocket \u001b[39m=\u001b[39m socket\u001b[39m.\u001b[39msocket(socket\u001b[39m.\u001b[39mAF_INET, socket\u001b[39m.\u001b[39mSOCK_STREAM)  \u001b[39m# 创建 TCP 套接字\u001b[39;00m\n\u001b[1;32m----> <a href='vscode-notebook-cell:/e%3A/Study_code/WeQ/test.ipynb#W2sZmlsZQ%3D%3D?line=1'>2</a>\u001b[0m client_socket\u001b[39m.\u001b[39;49mconnect((\u001b[39m'\u001b[39;49m\u001b[39m127.0.0.1\u001b[39;49m\u001b[39m'\u001b[39;49m, \u001b[39m20000\u001b[39;49m))\n",
      "\u001b[1;31mOSError\u001b[0m: [WinError 10056] 在一个已经连接的套接字上做了一个连接请求。"
     ]
    }
   ],
   "source": []
  }
 ],
 "metadata": {
  "kernelspec": {
   "display_name": ".venv",
   "language": "python",
   "name": "python3"
  },
  "language_info": {
   "codemirror_mode": {
    "name": "ipython",
    "version": 3
   },
   "file_extension": ".py",
   "mimetype": "text/x-python",
   "name": "python",
   "nbconvert_exporter": "python",
   "pygments_lexer": "ipython3",
   "version": "3.10.0"
  },
  "orig_nbformat": 4
 },
 "nbformat": 4,
 "nbformat_minor": 2
}
