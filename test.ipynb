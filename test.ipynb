{
 "cells": [
  {
   "cell_type": "code",
   "execution_count": null,
   "metadata": {},
   "outputs": [
    {
     "ename": "",
     "evalue": "",
     "output_type": "error",
     "traceback": [
      "\u001b[1;31m运行具有“c:\\Users\\Sagiring\\AppData\\Local\\Programs\\Python\\Python310\\python.exe”的单元格需要ipykernel包。\n",
      "\u001b[1;31mRun the following command to install 'ipykernel' into the Python environment. \n",
      "\u001b[1;31mCommand: 'c:/Users/Sagiring/AppData/Local/Programs/Python/Python310/python.exe -m pip install ipykernel -U --user --force-reinstall'"
     ]
    }
   ],
   "source": [
    "\n",
    "from Crypto import Random\n",
    "from Crypto.PublicKey import RSA\n",
    " \n",
    " \n",
    "random_generator = Random.new().read\n",
    "rsa = RSA.generate(2048, random_generator)\n",
    "public_key = rsa.publickey().exportKey()\n",
    "print(public_key.decode('utf-8'))"
   ]
  },
  {
   "cell_type": "code",
   "execution_count": 25,
   "metadata": {},
   "outputs": [
    {
     "name": "stdout",
     "output_type": "stream",
     "text": [
      "b'-----BEGIN PUBLIC KEY-----\\nMIIBIjANBgkqhkiG9w0BAQEFAAOCAQ8AMIIBCgKCAQEAwbWjxcf18824JNK3xU/j\\nDCcnIlsuUB5nMZYqhyEzp2cWrlzlwyxLiWvn8J3z7nS74ygvYWrnq1bHGjFyw5Ya\\n8vSZc09Txgct3cuVjLzPHGySEKeqiVCj1F82AXAgUlGnW33MtMLmCyMIcbLMC5dK\\n+LqKBBswgZ7O7EVvPo7ComU1bsSi0klnqDWEQUcoCzqoS9ucDQWoMsRtkJjGAYcK\\n/MxwLrVuz+GiyR0ooNPNMJTW1a8siJ38i6C0uIk4/O17dufMz5L6/EsngSi3m90q\\n5ssrsPFkp2msADctDbQqEpkFQAF9T3wl2hDFeXXW8gpO3BPfhwD/NNpv01mtBBo0\\nsQIDAQAB\\n-----END PUBLIC KEY-----'\n"
     ]
    }
   ],
   "source": []
  }
 ],
 "metadata": {
  "kernelspec": {
   "display_name": ".venv",
   "language": "python",
   "name": "python3"
  },
  "language_info": {
   "codemirror_mode": {
    "name": "ipython",
    "version": 3
   },
   "file_extension": ".py",
   "mimetype": "text/x-python",
   "name": "python",
   "nbconvert_exporter": "python",
   "pygments_lexer": "ipython3",
   "version": "3.10.0"
  },
  "orig_nbformat": 4
 },
 "nbformat": 4,
 "nbformat_minor": 2
}
