{
 "cells": [
  {
   "cell_type": "code",
   "execution_count": 74,
   "metadata": {},
   "outputs": [
    {
     "name": "stdout",
     "output_type": "stream",
     "text": [
      "b'\\xb7f\\xe9O\\x07\\xaa\\xcb\\x80\\xf4\\x91\\x15\\x0f\\xe5\\xa2\\x84\\xb4'\n"
     ]
    }
   ],
   "source": [
    "msg = '1234567890123456'\n",
    "key = b'YfU$Oq$d\\ntC,,cP,'\n",
    "\n",
    "from Crypto.Cipher import AES\n",
    "cipher1 = AES.new(key, AES.MODE_ECB)\n",
    "msg = cipher1.encrypt(msg.encode())\n",
    "print(msg)\n"
   ]
  },
  {
   "cell_type": "code",
   "execution_count": 77,
   "metadata": {},
   "outputs": [
    {
     "name": "stdout",
     "output_type": "stream",
     "text": [
      "b'1234567890123456'\n"
     ]
    }
   ],
   "source": [
    "msg = b'\\xb7f\\xe9O\\x07\\xaa\\xcb\\x80\\xf4\\x91\\x15\\x0f\\xe5\\xa2\\x84\\xb4'\n",
    "from Crypto.Cipher import AES\n",
    "cipher2 = AES.new(key, AES.MODE_ECB)\n",
    "msg = cipher2.decrypt(msg)\n",
    "print(msg)\n"
   ]
  },
  {
   "cell_type": "code",
   "execution_count": 52,
   "metadata": {},
   "outputs": [
    {
     "data": {
      "text/plain": [
       "5"
      ]
     },
     "execution_count": 52,
     "metadata": {},
     "output_type": "execute_result"
    }
   ],
   "source": []
  }
 ],
 "metadata": {
  "kernelspec": {
   "display_name": ".venv",
   "language": "python",
   "name": "python3"
  },
  "language_info": {
   "codemirror_mode": {
    "name": "ipython",
    "version": 3
   },
   "file_extension": ".py",
   "mimetype": "text/x-python",
   "name": "python",
   "nbconvert_exporter": "python",
   "pygments_lexer": "ipython3",
   "version": "3.10.0"
  },
  "orig_nbformat": 4
 },
 "nbformat": 4,
 "nbformat_minor": 2
}
