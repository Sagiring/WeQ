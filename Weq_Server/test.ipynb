{
 "cells": [
  {
   "cell_type": "code",
   "execution_count": 4,
   "metadata": {},
   "outputs": [
    {
     "name": "stdout",
     "output_type": "stream",
     "text": [
      "Public RSA key at 0x11933A0B040\n"
     ]
    }
   ],
   "source": [
    "\n",
    "from Crypto import Random\n",
    "from Crypto.PublicKey import RSA\n",
    "random_generator = Random.new().read\n",
    "rsa = RSA.generate(2048, random_generator)\n",
    "public_key = rsa.publickey().exportKey()\n"
   ]
  },
  {
   "cell_type": "code",
   "execution_count": 25,
   "metadata": {},
   "outputs": [
    {
     "name": "stdout",
     "output_type": "stream",
     "text": [
      "b'-----BEGIN PUBLIC KEY-----\\nMIIBIjANBgkqhkiG9w0BAQEFAAOCAQ8AMIIBCgKCAQEAwbWjxcf18824JNK3xU/j\\nDCcnIlsuUB5nMZYqhyEzp2cWrlzlwyxLiWvn8J3z7nS74ygvYWrnq1bHGjFyw5Ya\\n8vSZc09Txgct3cuVjLzPHGySEKeqiVCj1F82AXAgUlGnW33MtMLmCyMIcbLMC5dK\\n+LqKBBswgZ7O7EVvPo7ComU1bsSi0klnqDWEQUcoCzqoS9ucDQWoMsRtkJjGAYcK\\n/MxwLrVuz+GiyR0ooNPNMJTW1a8siJ38i6C0uIk4/O17dufMz5L6/EsngSi3m90q\\n5ssrsPFkp2msADctDbQqEpkFQAF9T3wl2hDFeXXW8gpO3BPfhwD/NNpv01mtBBo0\\nsQIDAQAB\\n-----END PUBLIC KEY-----'\n"
     ]
    }
   ],
   "source": []
  }
 ],
 "metadata": {
  "kernelspec": {
   "display_name": ".venv",
   "language": "python",
   "name": "python3"
  },
  "language_info": {
   "codemirror_mode": {
    "name": "ipython",
    "version": 3
   },
   "file_extension": ".py",
   "mimetype": "text/x-python",
   "name": "python",
   "nbconvert_exporter": "python",
   "pygments_lexer": "ipython3",
   "version": "3.10.0"
  },
  "orig_nbformat": 4
 },
 "nbformat": 4,
 "nbformat_minor": 2
}
