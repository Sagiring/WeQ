{
 "cells": [
  {
   "cell_type": "code",
   "execution_count": 75,
   "metadata": {},
   "outputs": [],
   "source": [
    "from Crypto.Cipher import AES\n",
    "from Crypto.Util.Padding import pad, unpad\n",
    "BLOCK_SIZE = 16\n",
    "msg = 'hello'\n",
    "key = b'1234567890123456'\n",
    "cipher = AES.new(key, AES.MODE_ECB)\n",
    "msg = cipher.encrypt(pad(msg.encode('utf-8'), BLOCK_SIZE))\n",
    "data = (str(len(msg))).encode()+ b'\\r\\n\\r\\n' + msg\n",
    "        "
   ]
  },
  {
   "cell_type": "code",
   "execution_count": 87,
   "metadata": {},
   "outputs": [
    {
     "name": "stdout",
     "output_type": "stream",
     "text": [
      "16\n"
     ]
    }
   ],
   "source": [
    "print(data.split(b'\\r\\n\\r\\n')[0].decode())\n",
    "dataLen = int(data.split(b'\\r\\n\\r\\n')[0].decode())\n",
    "msg = data.split(b'\\r\\n\\r\\n')[1]\n",
    "Len = len(msg)"
   ]
  },
  {
   "cell_type": "code",
   "execution_count": 52,
   "metadata": {},
   "outputs": [
    {
     "data": {
      "text/plain": [
       "5"
      ]
     },
     "execution_count": 52,
     "metadata": {},
     "output_type": "execute_result"
    }
   ],
   "source": []
  }
 ],
 "metadata": {
  "kernelspec": {
   "display_name": ".venv",
   "language": "python",
   "name": "python3"
  },
  "language_info": {
   "codemirror_mode": {
    "name": "ipython",
    "version": 3
   },
   "file_extension": ".py",
   "mimetype": "text/x-python",
   "name": "python",
   "nbconvert_exporter": "python",
   "pygments_lexer": "ipython3",
   "version": "3.10.0"
  },
  "orig_nbformat": 4
 },
 "nbformat": 4,
 "nbformat_minor": 2
}
